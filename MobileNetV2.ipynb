{
  "nbformat": 4,
  "nbformat_minor": 0,
  "metadata": {
    "colab": {
      "name": "MobileNetV2.ipynb",
      "provenance": [],
      "collapsed_sections": []
    },
    "kernelspec": {
      "name": "python3",
      "display_name": "Python 3"
    },
    "language_info": {
      "name": "python"
    }
  },
  "cells": [
    {
      "cell_type": "code",
      "execution_count": null,
      "metadata": {
        "colab": {
          "base_uri": "https://localhost:8080/"
        },
        "id": "H4FWeABfiJ-H",
        "outputId": "6ecc16e8-1b2a-43e5-efc7-cb5f3687620b"
      },
      "outputs": [
        {
          "output_type": "stream",
          "name": "stdout",
          "text": [
            "Mounted at /content/drive\n"
          ]
        }
      ],
      "source": [
        "from google.colab import drive\n",
        "drive.mount('/content/drive')"
      ]
    },
    {
      "cell_type": "code",
      "source": [
        "import tensorflow as tf\n",
        "from tensorflow import keras\n",
        "from tensorflow.keras.models import Sequential\n",
        "from tensorflow.keras.layers import Dense, Conv2D, MaxPooling2D, Flatten\n",
        "import numpy as np\n",
        "import matplotlib.pyplot as plt\n",
        "import pandas as pd\n",
        "print(tf.__version__)\n",
        "\n",
        "import tensorflow_hub as hub\n",
        "import os\n",
        "\n",
        "from tensorflow.keras.layers import Dropout\n",
        "from tensorflow.keras import Model\n",
        "from tensorflow.keras.preprocessing.image import ImageDataGenerator\n",
        "from tensorflow.keras.optimizers import Adam\n",
        "from tensorflow.keras import layers"
      ],
      "metadata": {
        "colab": {
          "base_uri": "https://localhost:8080/"
        },
        "id": "F2v0wswiiRBJ",
        "outputId": "628a3ae2-caa7-42b3-cdde-a11ea4aaee0a"
      },
      "execution_count": null,
      "outputs": [
        {
          "output_type": "stream",
          "name": "stdout",
          "text": [
            "2.7.0\n"
          ]
        }
      ]
    },
    {
      "cell_type": "code",
      "source": [
        "!unzip -uq \"/content/drive/MyDrive/DATASETS_INCEPTION/SKCANCER.zip\" -d \"/content\""
      ],
      "metadata": {
        "id": "dtsz25nQiRED"
      },
      "execution_count": null,
      "outputs": []
    },
    {
      "cell_type": "code",
      "source": [
        "from os import getcwd"
      ],
      "metadata": {
        "id": "DkMzN1HrhCQ3"
      },
      "execution_count": null,
      "outputs": []
    },
    {
      "cell_type": "code",
      "source": [
        "#1\n",
        "\n",
        "path_dataset = f\"{getcwd()}/../content/drive/MyDrive/DATASETS_INCEPTION/SKCANCER.zip\"\n"
      ],
      "metadata": {
        "id": "nhbJwE7bhCVm"
      },
      "execution_count": null,
      "outputs": []
    },
    {
      "cell_type": "code",
      "source": [
        "\n",
        "from zipfile import ZipFile\n",
        "file_name = path_dataset\n",
        "\n",
        "with ZipFile(file_name,'r') as zip:\n",
        "  zip.extractall()\n",
        "  print('Done')\n",
        "\n"
      ],
      "metadata": {
        "colab": {
          "base_uri": "https://localhost:8080/"
        },
        "id": "r03HaIo3hCa9",
        "outputId": "9642f390-3270-466f-d27a-bfe63d7e25d1"
      },
      "execution_count": null,
      "outputs": [
        {
          "output_type": "stream",
          "name": "stdout",
          "text": [
            "Done\n"
          ]
        }
      ]
    },
    {
      "cell_type": "code",
      "source": [
        "\n",
        "import os \n",
        "melignant = os.path.join('../content/SKCANCER/malignant')\n",
        "benign = os.path.join('../content/SKCANCER/benign')\n",
        "print('Total malignant Images:',len(os.listdir(melignant)))\n",
        "print('Total benign Images:',len(os.listdir(benign)))"
      ],
      "metadata": {
        "colab": {
          "base_uri": "https://localhost:8080/"
        },
        "id": "kR1DiKJPhWKN",
        "outputId": "5ca3dd27-f85c-48cb-ef00-11aca8eecba7"
      },
      "execution_count": null,
      "outputs": [
        {
          "output_type": "stream",
          "name": "stdout",
          "text": [
            "Total malignant Images: 1497\n",
            "Total benign Images: 1800\n"
          ]
        }
      ]
    },
    {
      "cell_type": "code",
      "source": [
        "#3\n",
        "\n",
        "malignant_files = os.listdir(melignant)\n",
        "print(malignant_files[:10])\n",
        "benign_files = os.listdir(benign)\n",
        "print(benign_files[:10])"
      ],
      "metadata": {
        "colab": {
          "base_uri": "https://localhost:8080/"
        },
        "id": "GokkIqPzhWM6",
        "outputId": "c705834a-199a-4d55-d4f9-37cc53c45bd9"
      },
      "execution_count": null,
      "outputs": [
        {
          "output_type": "stream",
          "name": "stdout",
          "text": [
            "['799.jpg', '1141.jpg', '644.jpg', '896.jpg', '1404.jpg', '1105.jpg', '1331.jpg', '782.jpg', '904.jpg', '556.jpg']\n",
            "['1615.jpg', '799.jpg', '1141.jpg', '644.jpg', '896.jpg', '1404.jpg', '1105.jpg', '1667.jpg', '1331.jpg', '782.jpg']\n"
          ]
        }
      ]
    },
    {
      "cell_type": "code",
      "source": [
        "\n",
        "from glob import glob\n",
        "import os.path\n",
        "from shutil import copy2\n",
        "\n",
        "path = '../content/SKCANCER'\n",
        "test = '../content/Test'\n",
        "train = '../content/Train'\n",
        "\n",
        "if not os.path.exists(test):\n",
        "\tos.makedirs(test)\n",
        "if not os.path.exists(train):\n",
        "\tos.makedirs(train)\n",
        " \n",
        "for folder in glob(path+'/*'):\n",
        "\t\tprint(folder)\n",
        "\t\t# find number of images in folder\n",
        "\t\tno_images_in_folder = len(os.listdir(folder))\n",
        "\t\t# make new folder inside test and train\n",
        "\t\tfolder_test = test+'/'+folder.split('/')[3]+'/'\n",
        "\t\tfolder_train = train+'/'+folder.split('/')[3]+'/'\n",
        "\t\t# print(folder_test)\n",
        "\t\t# print(folder_train)\n",
        "\t\tif not os.path.exists(folder_test):\n",
        "\t\t\tos.makedirs(folder_test)\n",
        "\t\tif not os.path.exists(folder_train):\n",
        "\t\t\tos.makedirs(folder_train)\n",
        "\n",
        "\t\tprint(\"no of images in this folder: {}\".format(no_images_in_folder))\n",
        "\t\ttrain_num = int(no_images_in_folder*0.8)\n",
        "\t\t\n",
        "\t\t\n",
        "\t\tfor idx, im in enumerate(glob(folder+'/*')):\n",
        "\t\t\t\n",
        "\t\t\tif idx <= train_num:\n",
        "\t\t\n",
        "\t\t\t\tcopy2(im, folder_train)\n",
        "\t\t\telse:\n",
        "\t\t\t\n",
        "\t\t\t\tcopy2(im, folder_test)\n"
      ],
      "metadata": {
        "colab": {
          "base_uri": "https://localhost:8080/"
        },
        "id": "UoQscD1DhWP3",
        "outputId": "0a462a65-144e-48a1-95a0-3890bd9e98c1"
      },
      "execution_count": null,
      "outputs": [
        {
          "output_type": "stream",
          "name": "stdout",
          "text": [
            "../content/SKCANCER/malignant\n",
            "no of images in this folder: 1497\n",
            "../content/SKCANCER/benign\n",
            "no of images in this folder: 1800\n"
          ]
        }
      ]
    },
    {
      "cell_type": "code",
      "source": [
        "train_dir = '/content/Train'\n",
        "validation_dir = '/content/Test'\n",
        "\n",
        "train_malignant_dir = os.path.join(train_dir,'malignant')\n",
        "train_benign_dir = os.path.join(train_dir,'benign')\n",
        "validation_malignant_dir = os.path.join(validation_dir,'malignant')\n",
        "validation_benign_dir = os.path.join(validation_dir,'benign')\n",
        "\n",
        "train_malignant_fnames = os.listdir(train_malignant_dir)\n",
        "train_benign_fnames = os.listdir(train_benign_dir)\n",
        "validation_malignant_fnames = os.listdir(validation_malignant_dir)\n",
        "validation_benign_fnames = os.listdir(validation_benign_dir)\n",
        "\n",
        "print(len(train_malignant_fnames))\n",
        "print(len(train_benign_fnames))\n",
        "print(len(validation_malignant_fnames))\n",
        "print(len(validation_benign_fnames))"
      ],
      "metadata": {
        "colab": {
          "base_uri": "https://localhost:8080/"
        },
        "id": "RFXIaYzXhWSb",
        "outputId": "d5d8fb83-60f1-4c31-96ac-7d96611237a0"
      },
      "execution_count": null,
      "outputs": [
        {
          "output_type": "stream",
          "name": "stdout",
          "text": [
            "1198\n",
            "1441\n",
            "299\n",
            "359\n"
          ]
        }
      ]
    },
    {
      "cell_type": "code",
      "source": [
        ""
      ],
      "metadata": {
        "id": "E0QDhlkBjULi"
      },
      "execution_count": null,
      "outputs": []
    },
    {
      "cell_type": "code",
      "source": [
        "Labels = ['benign', 'malignant']"
      ],
      "metadata": {
        "id": "4gdE1rkhhWU0"
      },
      "execution_count": null,
      "outputs": []
    },
    {
      "cell_type": "code",
      "source": [
        "print (\"class : \") \n",
        "for i in range(len(Labels)): \n",
        "    print (i, end = \" \") \n",
        "    print (Labels[i])"
      ],
      "metadata": {
        "colab": {
          "base_uri": "https://localhost:8080/"
        },
        "id": "CxRRL2cniRPX",
        "outputId": "2c23d538-e1cd-4b85-aacc-666257bce344"
      },
      "execution_count": null,
      "outputs": [
        {
          "output_type": "stream",
          "name": "stdout",
          "text": [
            "class : \n",
            "0 benign\n",
            "1 malignant\n"
          ]
        }
      ]
    },
    {
      "cell_type": "code",
      "source": [
        "print('Number of classes:',len(Labels))"
      ],
      "metadata": {
        "colab": {
          "base_uri": "https://localhost:8080/"
        },
        "id": "o0eVrODgi49M",
        "outputId": "795e24f1-0ac3-4bba-ddd4-413bc8f5f5ee"
      },
      "execution_count": null,
      "outputs": [
        {
          "output_type": "stream",
          "name": "stdout",
          "text": [
            "Number of classes: 2\n"
          ]
        }
      ]
    },
    {
      "cell_type": "code",
      "source": [
        ""
      ],
      "metadata": {
        "id": "Vx3ECOV3iFj4"
      },
      "execution_count": null,
      "outputs": []
    },
    {
      "cell_type": "code",
      "source": [
        "module_selection = (\"mobilenet_v2\", 224, 1280) \n",
        "handle_base, pixels, FV_SIZE = module_selection\n",
        "MODULE_HANDLE =\"https://tfhub.dev/google/tf2-preview/{}/feature_vector/2\".format(handle_base)\n",
        "IMAGE_SIZE = (pixels, pixels)\n",
        "BATCH_SIZE = 32"
      ],
      "metadata": {
        "id": "Gzw0WnY4i4-6"
      },
      "execution_count": null,
      "outputs": []
    },
    {
      "cell_type": "code",
      "source": [
        "IMAGE_SIZE"
      ],
      "metadata": {
        "colab": {
          "base_uri": "https://localhost:8080/"
        },
        "id": "Yy9ZbkJDi5As",
        "outputId": "ff91b1da-93db-412f-f151-c1c1a0253892"
      },
      "execution_count": null,
      "outputs": [
        {
          "output_type": "execute_result",
          "data": {
            "text/plain": [
              "(224, 224)"
            ]
          },
          "metadata": {},
          "execution_count": 15
        }
      ]
    },
    {
      "cell_type": "code",
      "source": [
        "from tensorflow.keras.preprocessing.image import ImageDataGenerator\n",
        "\n",
        "\n",
        "train_datagen = ImageDataGenerator(rescale=1./255,\n",
        "      rotation_range=40,\n",
        "      width_shift_range=0.2,\n",
        "      height_shift_range=0.2,\n",
        "      shear_range=0.2,\n",
        "      zoom_range=0.2,\n",
        "      horizontal_flip=True,\n",
        "      fill_mode='nearest')\n",
        "\n",
        "test_datagen = ImageDataGenerator(rescale=1/255)\n",
        "\n",
        "train_generator = train_datagen.flow_from_directory(train_dir,  \n",
        "        target_size=(224,224), \n",
        "        batch_size=32,\n",
        "        class_mode='binary')\n",
        "\n",
        "validation_generator =  test_datagen.flow_from_directory( validation_dir,  \n",
        "        target_size=(224,224), \n",
        "        batch_size=32,\n",
        "        class_mode='binary')\n"
      ],
      "metadata": {
        "colab": {
          "base_uri": "https://localhost:8080/"
        },
        "id": "TLEXO709l1v6",
        "outputId": "2dfb3531-7a4d-4b35-9206-6e69d79c01ff"
      },
      "execution_count": null,
      "outputs": [
        {
          "output_type": "stream",
          "name": "stdout",
          "text": [
            "Found 2639 images belonging to 2 classes.\n",
            "Found 658 images belonging to 2 classes.\n"
          ]
        }
      ]
    },
    {
      "cell_type": "code",
      "source": [
        "IMAGE_SIZE = 224\n",
        "IMG_SHAPE = (IMAGE_SIZE, IMAGE_SIZE, 3)\n",
        "\n",
        "#Create the base model from the pre-trained model MobileNet V2\n",
        "base_model = tf.keras.applications.MobileNetV2(input_shape=IMG_SHAPE,\n",
        "                                               include_top=False,\n",
        "                                               weights='imagenet')"
      ],
      "metadata": {
        "id": "aahk71R4i5EL",
        "colab": {
          "base_uri": "https://localhost:8080/"
        },
        "outputId": "ab1986e1-b415-4e9e-bc9e-be23e9d790bd"
      },
      "execution_count": null,
      "outputs": [
        {
          "output_type": "stream",
          "name": "stdout",
          "text": [
            "Downloading data from https://storage.googleapis.com/tensorflow/keras-applications/mobilenet_v2/mobilenet_v2_weights_tf_dim_ordering_tf_kernels_1.0_224_no_top.h5\n",
            "9412608/9406464 [==============================] - 0s 0us/step\n",
            "9420800/9406464 [==============================] - 0s 0us/step\n"
          ]
        }
      ]
    },
    {
      "cell_type": "code",
      "source": [
        ""
      ],
      "metadata": {
        "id": "oO1R_dyVkoBO"
      },
      "execution_count": null,
      "outputs": []
    },
    {
      "cell_type": "code",
      "source": [
        "base_model.trainable = False"
      ],
      "metadata": {
        "id": "qwOI3u2mi5Ft"
      },
      "execution_count": null,
      "outputs": []
    },
    {
      "cell_type": "code",
      "source": [
        "global_average_layer = tf.keras.layers.GlobalAveragePooling2D()\n",
        "prediction_layer = tf.keras.layers.Dense(1 , activation='sigmoid')"
      ],
      "metadata": {
        "id": "UYD3E_pMjIR7"
      },
      "execution_count": null,
      "outputs": []
    },
    {
      "cell_type": "code",
      "source": [
        "model = tf.keras.Sequential([base_model,\n",
        "                             global_average_layer,\n",
        "                             prediction_layer\n",
        "                             ])\n",
        "\n",
        "base_learning_rate = 0.001\n",
        "model.compile(optimizer=tf.keras.optimizers.Adam(learning_rate=base_learning_rate),\n",
        "              loss=tf.keras.losses.BinaryCrossentropy(from_logits=True),\n",
        "              metrics=['accuracy'])"
      ],
      "metadata": {
        "id": "dnqBQfQFjITj"
      },
      "execution_count": null,
      "outputs": []
    },
    {
      "cell_type": "code",
      "source": [
        "EPOCHS=15\n",
        "history = model.fit_generator(train_generator,\n",
        "                              steps_per_epoch=train_generator.samples//train_generator.batch_size,\n",
        "                              epochs=EPOCHS,\n",
        "                              validation_data=validation_generator,\n",
        "                              validation_steps=validation_generator.samples//validation_generator.batch_size)"
      ],
      "metadata": {
        "colab": {
          "base_uri": "https://localhost:8080/"
        },
        "id": "J_x2f9udjIVN",
        "outputId": "58c1f669-b16e-4c77-c47f-64182de33a92"
      },
      "execution_count": null,
      "outputs": [
        {
          "output_type": "stream",
          "name": "stderr",
          "text": [
            "/usr/local/lib/python3.7/dist-packages/ipykernel_launcher.py:6: UserWarning: `Model.fit_generator` is deprecated and will be removed in a future version. Please use `Model.fit`, which supports generators.\n",
            "  \n"
          ]
        },
        {
          "output_type": "stream",
          "name": "stdout",
          "text": [
            "Epoch 1/15\n"
          ]
        },
        {
          "output_type": "stream",
          "name": "stderr",
          "text": [
            "/usr/local/lib/python3.7/dist-packages/tensorflow/python/util/dispatch.py:1096: UserWarning: \"`binary_crossentropy` received `from_logits=True`, but the `output` argument was produced by a sigmoid or softmax activation and thus does not represent logits. Was this intended?\"\n",
            "  return dispatch_target(*args, **kwargs)\n"
          ]
        },
        {
          "output_type": "stream",
          "name": "stdout",
          "text": [
            "82/82 [==============================] - 121s 1s/step - loss: 0.5205 - accuracy: 0.7376 - val_loss: 0.4997 - val_accuracy: 0.7375\n",
            "Epoch 2/15\n",
            "82/82 [==============================] - 117s 1s/step - loss: 0.4299 - accuracy: 0.8036 - val_loss: 0.4302 - val_accuracy: 0.8156\n",
            "Epoch 3/15\n",
            "82/82 [==============================] - 117s 1s/step - loss: 0.4067 - accuracy: 0.8082 - val_loss: 0.4213 - val_accuracy: 0.7906\n",
            "Epoch 4/15\n",
            "82/82 [==============================] - 117s 1s/step - loss: 0.3970 - accuracy: 0.8193 - val_loss: 0.3883 - val_accuracy: 0.8328\n",
            "Epoch 5/15\n",
            "82/82 [==============================] - 117s 1s/step - loss: 0.3750 - accuracy: 0.8354 - val_loss: 0.3789 - val_accuracy: 0.8391\n",
            "Epoch 6/15\n",
            "82/82 [==============================] - 116s 1s/step - loss: 0.3720 - accuracy: 0.8377 - val_loss: 0.3642 - val_accuracy: 0.8359\n",
            "Epoch 7/15\n",
            "82/82 [==============================] - 117s 1s/step - loss: 0.3644 - accuracy: 0.8339 - val_loss: 0.3644 - val_accuracy: 0.8422\n",
            "Epoch 8/15\n",
            "82/82 [==============================] - 116s 1s/step - loss: 0.3657 - accuracy: 0.8443 - val_loss: 0.3623 - val_accuracy: 0.8391\n",
            "Epoch 9/15\n",
            "82/82 [==============================] - 117s 1s/step - loss: 0.3588 - accuracy: 0.8362 - val_loss: 0.3557 - val_accuracy: 0.8375\n",
            "Epoch 10/15\n",
            "82/82 [==============================] - 116s 1s/step - loss: 0.3511 - accuracy: 0.8377 - val_loss: 0.3789 - val_accuracy: 0.8313\n",
            "Epoch 11/15\n",
            "82/82 [==============================] - 116s 1s/step - loss: 0.3463 - accuracy: 0.8439 - val_loss: 0.3588 - val_accuracy: 0.8469\n",
            "Epoch 12/15\n",
            "82/82 [==============================] - 116s 1s/step - loss: 0.3394 - accuracy: 0.8470 - val_loss: 0.3598 - val_accuracy: 0.8391\n",
            "Epoch 13/15\n",
            "82/82 [==============================] - 116s 1s/step - loss: 0.3437 - accuracy: 0.8393 - val_loss: 0.3589 - val_accuracy: 0.8453\n",
            "Epoch 14/15\n",
            "82/82 [==============================] - 116s 1s/step - loss: 0.3366 - accuracy: 0.8550 - val_loss: 0.3760 - val_accuracy: 0.8313\n",
            "Epoch 15/15\n",
            "82/82 [==============================] - 115s 1s/step - loss: 0.3448 - accuracy: 0.8427 - val_loss: 0.3526 - val_accuracy: 0.8453\n"
          ]
        }
      ]
    },
    {
      "cell_type": "code",
      "source": [
        "acc = history.history['accuracy']\n",
        "val_acc = history.history['val_accuracy']\n",
        "\n",
        "loss = history.history['loss']\n",
        "val_loss = history.history['val_loss']\n",
        "\n",
        "plt.figure(figsize=(8, 8))\n",
        "plt.subplot(2, 1, 1)\n",
        "plt.plot(acc, label='Training Accuracy')\n",
        "plt.plot(val_acc, label='Validation Accuracy')\n",
        "plt.legend(loc='lower right')\n",
        "plt.ylabel('Accuracy')\n",
        "plt.ylim([min(plt.ylim()),1])\n",
        "plt.title('Training and Validation Accuracy')\n",
        "\n",
        "plt.subplot(2, 1, 2)\n",
        "plt.plot(loss, label='Training Loss')\n",
        "plt.plot(val_loss, label='Validation Loss')\n",
        "plt.legend(loc='upper right')\n",
        "plt.ylabel('Cross Entropy')\n",
        "plt.ylim([0,1.0])\n",
        "plt.title('Training and Validation Loss')\n",
        "plt.xlabel('epoch')\n",
        "plt.show()"
      ],
      "metadata": {
        "id": "5qIPrLdNvwG0",
        "colab": {
          "base_uri": "https://localhost:8080/",
          "height": 513
        },
        "outputId": "727a6d4e-30a7-4eb5-800a-1d5d39b62100"
      },
      "execution_count": null,
      "outputs": [
        {
          "output_type": "display_data",
          "data": {
            "image/png": "[encoded data removed]",
            "text/plain": [
              "<Figure size 576x576 with 2 Axes>"
            ]
          },
          "metadata": {
            "needs_background": "light"
          }
        }
      ]
    },
    {
      "cell_type": "code",
      "source": [
        "### fine tuning\n",
        "\n",
        "base_model.trainable = True\n",
        "\n",
        "# Let's take a look to see how many layers are in the base model\n",
        "print(\"Number of layers in the base model: \", len(base_model.layers))\n",
        "\n",
        "# Fine-tune from this layer onwards\n",
        "fine_tune_at = 100\n",
        "\n",
        "# Freeze all the layers before the `fine_tune_at` layer\n",
        "for layer in base_model.layers[:fine_tune_at]:\n",
        "  layer.trainable =  False"
      ],
      "metadata": {
        "colab": {
          "base_uri": "https://localhost:8080/"
        },
        "id": "EhbwS5YpjIYg",
        "outputId": "222a7321-986d-4c16-cb04-1489a8f4eb26"
      },
      "execution_count": null,
      "outputs": [
        {
          "output_type": "stream",
          "name": "stdout",
          "text": [
            "Number of layers in the base model:  154\n"
          ]
        }
      ]
    },
    {
      "cell_type": "code",
      "source": [
        "model.compile(loss=tf.keras.losses.BinaryCrossentropy(from_logits=True),\n",
        "              optimizer = tf.keras.optimizers.Adam(learning_rate=base_learning_rate/10),\n",
        "              metrics=['accuracy'])"
      ],
      "metadata": {
        "id": "gHJKXKZHnGnG"
      },
      "execution_count": null,
      "outputs": []
    },
    {
      "cell_type": "code",
      "source": [
        "model.summary()"
      ],
      "metadata": {
        "id": "OuoLvqvMnIOn",
        "colab": {
          "base_uri": "https://localhost:8080/"
        },
        "outputId": "9aa336a5-85fe-455f-cc3e-f8d620a1276c"
      },
      "execution_count": null,
      "outputs": [
        {
          "output_type": "stream",
          "name": "stdout",
          "text": [
            "Model: \"sequential\"\n",
            "_________________________________________________________________\n",
            " Layer (type)                Output Shape              Param #   \n",
            "=================================================================\n",
            " mobilenetv2_1.00_224 (Funct  (None, 7, 7, 1280)       2257984   \n",
            " ional)                                                          \n",
            "                                                                 \n",
            " global_average_pooling2d (G  (None, 1280)             0         \n",
            " lobalAveragePooling2D)                                          \n",
            "                                                                 \n",
            " dense (Dense)               (None, 1)                 1281      \n",
            "                                                                 \n",
            "=================================================================\n",
            "Total params: 2,259,265\n",
            "Trainable params: 1,862,721\n",
            "Non-trainable params: 396,544\n",
            "_________________________________________________________________\n"
          ]
        }
      ]
    },
    {
      "cell_type": "code",
      "source": [
        "\n",
        "\n",
        "fine_tune_epochs = 20\n",
        "initial_epochs =  history.epoch[-1]\n",
        "\n",
        "total_epochs =  initial_epochs + fine_tune_epochs\n",
        "\n",
        "history_fine = model.fit_generator(train_generator,\n",
        "                                   steps_per_epoch=train_generator.samples//train_generator.batch_size,\n",
        "                                   epochs=total_epochs,\n",
        "                                   validation_data=validation_generator,\n",
        "                                   validation_steps=validation_generator.samples//validation_generator.batch_size\n",
        "                                   )"
      ],
      "metadata": {
        "id": "cNpo8Bmzi5H-",
        "colab": {
          "base_uri": "https://localhost:8080/"
        },
        "outputId": "3e6b091c-9d6d-4c5b-843f-52f951174669"
      },
      "execution_count": null,
      "outputs": [
        {
          "output_type": "stream",
          "name": "stderr",
          "text": [
            "/usr/local/lib/python3.7/dist-packages/ipykernel_launcher.py:12: UserWarning: `Model.fit_generator` is deprecated and will be removed in a future version. Please use `Model.fit`, which supports generators.\n",
            "  if sys.path[0] == '':\n"
          ]
        },
        {
          "output_type": "stream",
          "name": "stdout",
          "text": [
            "Epoch 1/34\n"
          ]
        },
        {
          "output_type": "stream",
          "name": "stderr",
          "text": [
            "/usr/local/lib/python3.7/dist-packages/tensorflow/python/util/dispatch.py:1096: UserWarning: \"`binary_crossentropy` received `from_logits=True`, but the `output` argument was produced by a sigmoid or softmax activation and thus does not represent logits. Was this intended?\"\n",
            "  return dispatch_target(*args, **kwargs)\n"
          ]
        },
        {
          "output_type": "stream",
          "name": "stdout",
          "text": [
            "82/82 [==============================] - 198s 2s/step - loss: 0.5117 - accuracy: 0.7733 - val_loss: 0.5835 - val_accuracy: 0.7719\n",
            "Epoch 2/34\n",
            "82/82 [==============================] - 191s 2s/step - loss: 0.3507 - accuracy: 0.8420 - val_loss: 0.5437 - val_accuracy: 0.7906\n",
            "Epoch 3/34\n",
            "82/82 [==============================] - 189s 2s/step - loss: 0.3028 - accuracy: 0.8730 - val_loss: 0.5743 - val_accuracy: 0.7812\n",
            "Epoch 4/34\n",
            "82/82 [==============================] - 189s 2s/step - loss: 0.2705 - accuracy: 0.8838 - val_loss: 0.4434 - val_accuracy: 0.8188\n",
            "Epoch 5/34\n",
            "82/82 [==============================] - 189s 2s/step - loss: 0.2497 - accuracy: 0.8895 - val_loss: 0.5796 - val_accuracy: 0.7797\n",
            "Epoch 6/34\n",
            "82/82 [==============================] - 189s 2s/step - loss: 0.2382 - accuracy: 0.8984 - val_loss: 1.3059 - val_accuracy: 0.6734\n",
            "Epoch 7/34\n",
            "82/82 [==============================] - 188s 2s/step - loss: 0.2190 - accuracy: 0.9079 - val_loss: 1.2712 - val_accuracy: 0.6812\n",
            "Epoch 8/34\n",
            "82/82 [==============================] - 188s 2s/step - loss: 0.2036 - accuracy: 0.9102 - val_loss: 0.5062 - val_accuracy: 0.8281\n",
            "Epoch 9/34\n",
            "82/82 [==============================] - 188s 2s/step - loss: 0.1727 - accuracy: 0.9275 - val_loss: 1.2319 - val_accuracy: 0.7234\n",
            "Epoch 10/34\n",
            "82/82 [==============================] - 188s 2s/step - loss: 0.1645 - accuracy: 0.9356 - val_loss: 0.9589 - val_accuracy: 0.7422\n",
            "Epoch 11/34\n",
            "82/82 [==============================] - 187s 2s/step - loss: 0.1678 - accuracy: 0.9310 - val_loss: 0.9708 - val_accuracy: 0.7391\n",
            "Epoch 12/34\n",
            "82/82 [==============================] - 187s 2s/step - loss: 0.1512 - accuracy: 0.9425 - val_loss: 0.6758 - val_accuracy: 0.7766\n",
            "Epoch 13/34\n",
            "82/82 [==============================] - 189s 2s/step - loss: 0.1444 - accuracy: 0.9448 - val_loss: 0.7811 - val_accuracy: 0.7969\n",
            "Epoch 14/34\n",
            "82/82 [==============================] - 190s 2s/step - loss: 0.1372 - accuracy: 0.9436 - val_loss: 0.7582 - val_accuracy: 0.7797\n",
            "Epoch 15/34\n",
            "82/82 [==============================] - 191s 2s/step - loss: 0.1250 - accuracy: 0.9498 - val_loss: 0.4287 - val_accuracy: 0.8609\n",
            "Epoch 16/34\n",
            "82/82 [==============================] - 193s 2s/step - loss: 0.1099 - accuracy: 0.9547 - val_loss: 0.4381 - val_accuracy: 0.8594\n",
            "Epoch 17/34\n",
            "82/82 [==============================] - 190s 2s/step - loss: 0.1064 - accuracy: 0.9551 - val_loss: 0.5055 - val_accuracy: 0.8594\n",
            "Epoch 18/34\n",
            "82/82 [==============================] - 193s 2s/step - loss: 0.1363 - accuracy: 0.9467 - val_loss: 0.4985 - val_accuracy: 0.8516\n",
            "Epoch 19/34\n",
            "82/82 [==============================] - 194s 2s/step - loss: 0.0870 - accuracy: 0.9678 - val_loss: 0.4794 - val_accuracy: 0.8531\n",
            "Epoch 20/34\n",
            "82/82 [==============================] - 191s 2s/step - loss: 0.0956 - accuracy: 0.9643 - val_loss: 0.5222 - val_accuracy: 0.8500\n",
            "Epoch 21/34\n",
            "82/82 [==============================] - 192s 2s/step - loss: 0.0862 - accuracy: 0.9662 - val_loss: 0.5131 - val_accuracy: 0.8609\n",
            "Epoch 22/34\n",
            "82/82 [==============================] - 191s 2s/step - loss: 0.0772 - accuracy: 0.9724 - val_loss: 0.4944 - val_accuracy: 0.8578\n",
            "Epoch 23/34\n",
            "82/82 [==============================] - 190s 2s/step - loss: 0.0736 - accuracy: 0.9731 - val_loss: 0.4752 - val_accuracy: 0.8703\n",
            "Epoch 24/34\n",
            "82/82 [==============================] - 190s 2s/step - loss: 0.0711 - accuracy: 0.9752 - val_loss: 0.5844 - val_accuracy: 0.8438\n",
            "Epoch 25/34\n",
            "82/82 [==============================] - 192s 2s/step - loss: 0.0535 - accuracy: 0.9816 - val_loss: 0.5630 - val_accuracy: 0.8672\n",
            "Epoch 26/34\n",
            "82/82 [==============================] - 192s 2s/step - loss: 0.0686 - accuracy: 0.9751 - val_loss: 0.5173 - val_accuracy: 0.8625\n",
            "Epoch 27/34\n",
            "82/82 [==============================] - 190s 2s/step - loss: 0.0805 - accuracy: 0.9712 - val_loss: 0.4885 - val_accuracy: 0.8703\n",
            "Epoch 28/34\n",
            "82/82 [==============================] - 195s 2s/step - loss: 0.0687 - accuracy: 0.9762 - val_loss: 0.4039 - val_accuracy: 0.8984\n",
            "Epoch 29/34\n",
            "82/82 [==============================] - 192s 2s/step - loss: 0.0469 - accuracy: 0.9831 - val_loss: 0.4240 - val_accuracy: 0.8922\n",
            "Epoch 30/34\n",
            "82/82 [==============================] - 191s 2s/step - loss: 0.0655 - accuracy: 0.9747 - val_loss: 0.4677 - val_accuracy: 0.8844\n",
            "Epoch 31/34\n",
            "82/82 [==============================] - 191s 2s/step - loss: 0.0477 - accuracy: 0.9835 - val_loss: 0.5377 - val_accuracy: 0.8781\n",
            "Epoch 32/34\n",
            "82/82 [==============================] - 190s 2s/step - loss: 0.0495 - accuracy: 0.9812 - val_loss: 0.5079 - val_accuracy: 0.8516\n",
            "Epoch 33/34\n",
            "82/82 [==============================] - 191s 2s/step - loss: 0.0349 - accuracy: 0.9870 - val_loss: 0.6332 - val_accuracy: 0.8594\n",
            "Epoch 34/34\n",
            "82/82 [==============================] - 191s 2s/step - loss: 0.0579 - accuracy: 0.9789 - val_loss: 0.6064 - val_accuracy: 0.8844\n"
          ]
        }
      ]
    },
    {
      "cell_type": "code",
      "source": [
        "acc += history_fine.history['accuracy']\n",
        "val_acc += history_fine.history['val_accuracy']\n",
        "\n",
        "loss += history_fine.history['loss']\n",
        "val_loss += history_fine.history['val_loss']"
      ],
      "metadata": {
        "id": "zFPbc-19nEnm"
      },
      "execution_count": null,
      "outputs": []
    },
    {
      "cell_type": "code",
      "source": [
        "acc = history.history['accuracy']\n",
        "val_acc = history.history['val_accuracy']\n",
        "\n",
        "loss = history.history['loss']\n",
        "val_loss = history.history['val_loss']\n",
        "\n",
        "plt.figure(figsize=(8, 8))\n",
        "plt.subplot(2, 1, 1)\n",
        "plt.plot(acc, label='Training Accuracy')\n",
        "plt.plot(val_acc, label='Validation Accuracy')\n",
        "plt.legend(loc='lower right')\n",
        "plt.ylabel('Accuracy')\n",
        "#plt.ylim([min(plt.ylim()),1])\n",
        "plt.ylim([0,1])\n",
        "plt.title('Training and Validation Accuracy')\n",
        "\n",
        "plt.subplot(2, 1, 2)\n",
        "plt.plot(loss, label='Training Loss')\n",
        "plt.plot(val_loss, label='Validation Loss')\n",
        "plt.legend(loc='upper right')\n",
        "plt.ylabel('Cross Entropy')\n",
        "plt.ylim([0,8.0])\n",
        "plt.title('Training and Validation Loss')\n",
        "plt.xlabel('epoch')\n",
        "plt.show()"
      ],
      "metadata": {
        "id": "CUtLMimei5J7",
        "colab": {
          "base_uri": "https://localhost:8080/",
          "height": 513
        },
        "outputId": "b941c9d7-1df9-4bd4-8828-6a2c605357c7"
      },
      "execution_count": null,
      "outputs": [
        {
          "output_type": "display_data",
          "data": {
            "image/png": "[encoded data removed]",
            "text/plain": [
              "<Figure size 576x576 with 2 Axes>"
            ]
          },
          "metadata": {
            "needs_background": "light"
          }
        }
      ]
    },
    {
      "cell_type": "code",
      "source": [
        ""
      ],
      "metadata": {
        "id": "Ci5EZz6Ci5MB"
      },
      "execution_count": null,
      "outputs": []
    },
    {
      "cell_type": "code",
      "source": [
        ""
      ],
      "metadata": {
        "id": "hPsQKN8N2e8K"
      },
      "execution_count": null,
      "outputs": []
    },
    {
      "cell_type": "code",
      "source": [
        ""
      ],
      "metadata": {
        "id": "IjADDfQ0iRSE"
      },
      "execution_count": null,
      "outputs": []
    },
    {
      "cell_type": "code",
      "source": [
        ""
      ],
      "metadata": {
        "id": "4hKcCD-bxLVu"
      },
      "execution_count": null,
      "outputs": []
    },
    {
      "cell_type": "code",
      "source": [
        ""
      ],
      "metadata": {
        "id": "4ggGyg-DzBPA"
      },
      "execution_count": null,
      "outputs": []
    },
    {
      "cell_type": "code",
      "source": [
        ""
      ],
      "metadata": {
        "id": "4uOdJzykyfQM"
      },
      "execution_count": null,
      "outputs": []
    }
  ]
}